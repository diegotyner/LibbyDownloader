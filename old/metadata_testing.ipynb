{
 "cells": [
  {
   "cell_type": "code",
   "execution_count": null,
   "id": "d7eb3f65",
   "metadata": {},
   "outputs": [],
   "source": []
  },
  {
   "cell_type": "code",
   "execution_count": 2,
   "id": "9b893208",
   "metadata": {},
   "outputs": [],
   "source": [
    "import os\n",
    "import re\n",
    "from mutagen.mp3 import MP3\n",
    "from mutagen.id3 import ID3, TIT2, TPE1, TPE2, TALB, TCON, TRCK, TDRC, TCOM, APIC, error\n",
    "from mutagen.easyid3 import EasyID3"
   ]
  },
  {
   "cell_type": "code",
   "execution_count": 10,
   "id": "ebf1fa8c",
   "metadata": {},
   "outputs": [
    {
     "data": {
      "text/plain": [
       "'Quijote/libby_000.mp3'"
      ]
     },
     "execution_count": 10,
     "metadata": {},
     "output_type": "execute_result"
    }
   ],
   "source": [
    "folder = \"Quijote\"\n",
    "filename = f\"libby_{i:03d}.mp3\"\n",
    "i = 0\n",
    "filepath = os.path.join(folder, filename)\n",
    "filepath"
   ]
  },
  {
   "cell_type": "code",
   "execution_count": 5,
   "id": "0e25f99d",
   "metadata": {},
   "outputs": [
    {
     "data": {
      "text/plain": [
       "'MPEG 1 layer 3, 64000 bps (CBR?), 44100 Hz, 2 chn, 3717.98 seconds (audio/mp3)'"
      ]
     },
     "execution_count": 5,
     "metadata": {},
     "output_type": "execute_result"
    }
   ],
   "source": [
    "audio = MP3(filepath, ID3=EasyID3)\n",
    "audio.pprint()"
   ]
  },
  {
   "cell_type": "code",
   "execution_count": 6,
   "id": "c9dcb135",
   "metadata": {},
   "outputs": [],
   "source": [
    "audio.clear()"
   ]
  },
  {
   "cell_type": "code",
   "execution_count": 22,
   "id": "92324c72",
   "metadata": {},
   "outputs": [],
   "source": [
    "book_title = \"Don Quijote\"\n",
    "author = \"Miguel de Cervantes\"\n",
    "genre = \"Audiobook\"\n",
    "year = \"1605\"\n",
    "narrator = \"Jesus Ramos\""
   ]
  },
  {
   "cell_type": "code",
   "execution_count": 24,
   "id": "b8bea835",
   "metadata": {},
   "outputs": [],
   "source": [
    "snippet = re.split('[\\._]', filename)[-2] # splits on . and _\n",
    "snippet_1_indexed = int(snippet) + 1\n",
    "\n",
    "## THIS ASSUMES NO OTHER FILES IN FOLDER\n",
    "parts = len(os.listdir(folder))"
   ]
  },
  {
   "cell_type": "code",
   "execution_count": 25,
   "id": "d731209f",
   "metadata": {},
   "outputs": [],
   "source": [
    "audio[\"album\"]=book_title\n",
    "audio[\"artist\"] = author \n",
    "audio[\"albumartist\"] = author \n",
    "audio[\"genre\"] = genre\n",
    "audio[\"date\"] = year\n",
    "audio[\"composer\"] = narrator \n",
    "audio[\"title\"] = f\"Part {snippet_1_indexed}\"\n",
    "audio[\"tracknumber\"] = f\"{snippet_1_indexed}/{parts}\""
   ]
  },
  {
   "cell_type": "code",
   "execution_count": null,
   "id": "a2f207b8",
   "metadata": {},
   "outputs": [
    {
     "name": "stdout",
     "output_type": "stream",
     "text": [
      "MPEG 1 layer 3, 64000 bps (CBR?), 44100 Hz, 2 chn, 3717.98 seconds (audio/mp3)\n",
      "album=Don Quijote\n",
      "albumartist=Miguel de Cervantes\n",
      "artist=Miguel de Cervantes\n",
      "composer=Jesus Ramos\n",
      "date=1605\n",
      "genre=Audiobook\n",
      "title=Part 1\n",
      "tracknumber=1/34\n"
     ]
    }
   ],
   "source": [
    "print(audio.pprint())\n",
    "audio.save()"
   ]
  },
  {
   "cell_type": "code",
   "execution_count": 3,
   "id": "a9ef69be",
   "metadata": {},
   "outputs": [
    {
     "data": {
      "text/plain": [
       "'Wonderland/Alice in Wonderland - Part 1.mp3'"
      ]
     },
     "execution_count": 3,
     "metadata": {},
     "output_type": "execute_result"
    }
   ],
   "source": [
    "folder = \"Wonderland\"\n",
    "i = 1\n",
    "filename = f\"Alice in Wonderland - Part 1.mp3\"\n",
    "filepath = os.path.join(folder, filename)\n",
    "filepath"
   ]
  },
  {
   "cell_type": "code",
   "execution_count": 4,
   "id": "9e2c0b48",
   "metadata": {},
   "outputs": [
    {
     "name": "stdout",
     "output_type": "stream",
     "text": [
      "MPEG 1 layer 3, 64000 bps (CBR?), 44100 Hz, 2 chn, 3588.91 seconds (audio/mp3)\n",
      "album=Alice in Wonderland\n",
      "albumartist=Lewis Caroll\n",
      "artist=Lewis Caroll\n",
      "date=1885\n",
      "genre=Audiobook, Fiction\n",
      "title=Part 1\n",
      "tracknumber=1/3\n"
     ]
    }
   ],
   "source": [
    "audio = MP3(filepath, ID3=EasyID3)\n",
    "print(audio.pprint())"
   ]
  }
 ],
 "metadata": {
  "kernelspec": {
   "display_name": "jupyter-env",
   "language": "python",
   "name": "python3"
  },
  "language_info": {
   "codemirror_mode": {
    "name": "ipython",
    "version": 3
   },
   "file_extension": ".py",
   "mimetype": "text/x-python",
   "name": "python",
   "nbconvert_exporter": "python",
   "pygments_lexer": "ipython3",
   "version": "3.10.12"
  }
 },
 "nbformat": 4,
 "nbformat_minor": 5
}
